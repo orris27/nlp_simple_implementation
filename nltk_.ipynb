{
 "cells": [
  {
   "cell_type": "code",
   "execution_count": 1,
   "metadata": {},
   "outputs": [],
   "source": [
    "from nltk import ngrams"
   ]
  },
  {
   "cell_type": "code",
   "execution_count": 5,
   "metadata": {},
   "outputs": [
    {
     "name": "stdout",
     "output_type": "stream",
     "text": [
      "['georgetown', 'experi', '1954', 'involv', 'fulli', 'automat', 'translat', 'sixti', 'russian', 'sentenc', 'english', 'author', 'claim', 'within', 'three', 'five', 'year', 'machin', 'translat', 'would', 'solv', 'problem2', 'howev', 'real', 'progress', 'much', 'slower', 'alpac', 'report', '1966', 'found', 'tenyearlong', 'research', 'fail', 'fulfil', 'expect', 'fund', 'machin', 'translat', 'dramat', 'reduc', 'littl', 'research', 'machin', 'translat', 'conduct', 'late', '1980s', 'first', 'statist', 'machin', 'translat', 'system', 'develop']\n"
     ]
    }
   ],
   "source": [
    "text = 'The Georgetown experiment in 1954 involved fully automatic translation of more than sixty Russian sentences into English. The authors claimed that within three or five years, machine translation would be a solved problem.[2] However, real progress was much slower, and after the ALPAC report in 1966, which found that ten-year-long research had failed to fulfill the expectations, funding for machine translation was dramatically reduced. Little further research in machine translation was conducted until the late 1980s, when the first statistical machine translation systems were developed.'\n",
    "def tokenize(sentence):\n",
    "    # remove the punctuation\n",
    "    import string\n",
    "    remove_punctuation_map = dict((ord(char),None) for char in string.punctuation)\n",
    "    sentence_no_punctuation = sentence.translate(remove_punctuation_map)\n",
    "        \n",
    "    # lower\n",
    "    sentence_no_punctuation = sentence_no_punctuation.lower()\n",
    "        \n",
    "    # word_tokenize\n",
    "    from nltk import word_tokenize\n",
    "    words = word_tokenize(sentence_no_punctuation)\n",
    "        \n",
    "    # remove stopwords\n",
    "    from nltk.corpus import stopwords\n",
    "    filtered_words = [word for word in words if word not in stopwords.words('english')]\n",
    "        \n",
    "    # stem\n",
    "    from nltk.stem import SnowballStemmer\n",
    "    snowball_stemmer = SnowballStemmer(\"english\")\n",
    "    words_stemed = [snowball_stemmer.stem(word) for word in filtered_words]\n",
    "    \n",
    "    return words_stemed\n",
    "\n",
    "tokens = tokenize(text)\n",
    "print(tokens)"
   ]
  },
  {
   "cell_type": "code",
   "execution_count": 9,
   "metadata": {},
   "outputs": [
    {
     "name": "stdout",
     "output_type": "stream",
     "text": [
      "[('georgetown', 'experi'), ('experi', '1954'), ('1954', 'involv'), ('involv', 'fulli'), ('fulli', 'automat'), ('automat', 'translat'), ('translat', 'sixti'), ('sixti', 'russian'), ('russian', 'sentenc'), ('sentenc', 'english'), ('english', 'author'), ('author', 'claim'), ('claim', 'within'), ('within', 'three'), ('three', 'five'), ('five', 'year'), ('year', 'machin'), ('machin', 'translat'), ('translat', 'would'), ('would', 'solv'), ('solv', 'problem2'), ('problem2', 'howev'), ('howev', 'real'), ('real', 'progress'), ('progress', 'much'), ('much', 'slower'), ('slower', 'alpac'), ('alpac', 'report'), ('report', '1966'), ('1966', 'found'), ('found', 'tenyearlong'), ('tenyearlong', 'research'), ('research', 'fail'), ('fail', 'fulfil'), ('fulfil', 'expect'), ('expect', 'fund'), ('fund', 'machin'), ('machin', 'translat'), ('translat', 'dramat'), ('dramat', 'reduc'), ('reduc', 'littl'), ('littl', 'research'), ('research', 'machin'), ('machin', 'translat'), ('translat', 'conduct'), ('conduct', 'late'), ('late', '1980s'), ('1980s', 'first'), ('first', 'statist'), ('statist', 'machin'), ('machin', 'translat'), ('translat', 'system'), ('system', 'develop')]\n",
      "\n",
      "('machin', 'translat')\t4\n",
      "('georgetown', 'experi')\t1\n",
      "('experi', '1954')\t1\n",
      "('1954', 'involv')\t1\n",
      "('involv', 'fulli')\t1\n",
      "('fulli', 'automat')\t1\n",
      "('automat', 'translat')\t1\n",
      "('translat', 'sixti')\t1\n",
      "('sixti', 'russian')\t1\n",
      "('russian', 'sentenc')\t1\n",
      "('sentenc', 'english')\t1\n",
      "('english', 'author')\t1\n",
      "('author', 'claim')\t1\n",
      "('claim', 'within')\t1\n",
      "('within', 'three')\t1\n",
      "('three', 'five')\t1\n",
      "('five', 'year')\t1\n",
      "('year', 'machin')\t1\n",
      "('translat', 'would')\t1\n",
      "('would', 'solv')\t1\n"
     ]
    }
   ],
   "source": [
    "from collections import Counter\n",
    "print(list(ngrams(tokens, 2)))\n",
    "print()\n",
    "phrases = Counter(ngrams(tokens, 2))\n",
    "for phrase, freq in phrases.most_common(20):\n",
    "    print('{}\\t{}'.format(phrase, freq))"
   ]
  },
  {
   "cell_type": "code",
   "execution_count": 13,
   "metadata": {},
   "outputs": [
    {
     "name": "stdout",
     "output_type": "stream",
     "text": [
      "{'translat': 5, 'machin': 4, 'research': 2, 'georgetown': 1, 'experi': 1, '1954': 1, 'involv': 1, 'fulli': 1, 'automat': 1, 'sixti': 1}\n",
      "[('translat', 5), ('machin', 4), ('research', 2), ('georgetown', 1), ('experi', 1), ('1954', 1), ('involv', 1), ('fulli', 1), ('automat', 1), ('sixti', 1)]\n"
     ]
    }
   ],
   "source": [
    "from nltk import FreqDist\n",
    "fdist = FreqDist(tokens)\n",
    "print(dict(fdist.most_common(10)))\n",
    "fcounter = Counter(tokens)\n",
    "print(fcounter.most_common(10))"
   ]
  },
  {
   "cell_type": "code",
   "execution_count": null,
   "metadata": {},
   "outputs": [],
   "source": []
  }
 ],
 "metadata": {
  "kernelspec": {
   "display_name": "Python 3",
   "language": "python",
   "name": "python3"
  },
  "language_info": {
   "codemirror_mode": {
    "name": "ipython",
    "version": 3
   },
   "file_extension": ".py",
   "mimetype": "text/x-python",
   "name": "python",
   "nbconvert_exporter": "python",
   "pygments_lexer": "ipython3",
   "version": "3.6.4"
  }
 },
 "nbformat": 4,
 "nbformat_minor": 2
}
