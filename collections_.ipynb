{
 "cells": [
  {
   "cell_type": "code",
   "execution_count": 2,
   "metadata": {},
   "outputs": [
    {
     "name": "stdout",
     "output_type": "stream",
     "text": [
      "Counter({'translat': 5, 'machin': 4, 'research': 2, 'georgetown': 1, 'experi': 1, '1954': 1, 'involv': 1, 'fulli': 1, 'automat': 1, 'sixti': 1, 'russian': 1, 'sentenc': 1, 'english': 1, 'author': 1, 'claim': 1, 'within': 1, 'three': 1, 'five': 1, 'year': 1, 'would': 1, 'solv': 1, 'problem2': 1, 'howev': 1, 'real': 1, 'progress': 1, 'much': 1, 'slower': 1, 'alpac': 1, 'report': 1, '1966': 1, 'found': 1, 'tenyearlong': 1, 'fail': 1, 'fulfil': 1, 'expect': 1, 'fund': 1, 'dramat': 1, 'reduc': 1, 'littl': 1, 'conduct': 1, 'late': 1, '1980s': 1, 'first': 1, 'statist': 1, 'system': 1, 'develop': 1})\n"
     ]
    }
   ],
   "source": [
    "from collections import Counter\n",
    "\n",
    "text = 'The Georgetown experiment in 1954 involved fully automatic translation of more than sixty Russian sentences into English. The authors claimed that within three or five years, machine translation would be a solved problem.[2] However, real progress was much slower, and after the ALPAC report in 1966, which found that ten-year-long research had failed to fulfill the expectations, funding for machine translation was dramatically reduced. Little further research in machine translation was conducted until the late 1980s, when the first statistical machine translation systems were developed.'\n",
    "\n",
    "def tokenize(sentence):\n",
    "    # remove the punctuation\n",
    "    import string\n",
    "    remove_punctuation_map = dict((ord(char),None) for char in string.punctuation)\n",
    "    sentence_no_punctuation = sentence.translate(remove_punctuation_map)\n",
    "        \n",
    "    # lower\n",
    "    sentence_no_punctuation = sentence_no_punctuation.lower()\n",
    "        \n",
    "    # word_tokenize\n",
    "    from nltk import word_tokenize\n",
    "    words = word_tokenize(sentence_no_punctuation)\n",
    "        \n",
    "    # remove stopwords\n",
    "    from nltk.corpus import stopwords\n",
    "    filtered_words = [word for word in words if word not in stopwords.words('english')]\n",
    "        \n",
    "    # stem\n",
    "    from nltk.stem import SnowballStemmer\n",
    "    snowball_stemmer = SnowballStemmer(\"english\")\n",
    "    words_stemed = [snowball_stemmer.stem(word) for word in filtered_words]\n",
    "    \n",
    "    return words_stemed\n",
    "\n",
    "tokens = tokenize(text)\n",
    "counter1 = Counter(tokens)\n",
    "print(counter1)"
   ]
  },
  {
   "cell_type": "code",
   "execution_count": 7,
   "metadata": {},
   "outputs": [
    {
     "name": "stdout",
     "output_type": "stream",
     "text": [
      "Counter({'translat': 5, 'machin': 4, 'research': 2, 'georgetown': 1, 'experi': 1, '1954': 1, 'involv': 1, 'fulli': 1, 'automat': 1, 'sixti': 1, 'russian': 1, 'sentenc': 1, 'english': 1, 'author': 1, 'claim': 1, 'within': 1, 'three': 1, 'five': 1, 'year': 1, 'would': 1, 'solv': 1, 'problem2': 1, 'howev': 1, 'real': 1, 'progress': 1, 'much': 1, 'slower': 1, 'alpac': 1, 'report': 1, '1966': 1, 'found': 1, 'tenyearlong': 1, 'fail': 1, 'fulfil': 1, 'expect': 1, 'fund': 1, 'dramat': 1, 'reduc': 1, 'littl': 1, 'conduct': 1, 'late': 1, '1980s': 1, 'first': 1, 'statist': 1, 'system': 1, 'develop': 1})\n"
     ]
    }
   ],
   "source": [
    "counter2 = Counter()\n",
    "counter2.update(tokens)\n",
    "print(counter2)"
   ]
  },
  {
   "cell_type": "code",
   "execution_count": null,
   "metadata": {},
   "outputs": [],
   "source": []
  }
 ],
 "metadata": {
  "kernelspec": {
   "display_name": "Python 3",
   "language": "python",
   "name": "python3"
  },
  "language_info": {
   "codemirror_mode": {
    "name": "ipython",
    "version": 3
   },
   "file_extension": ".py",
   "mimetype": "text/x-python",
   "name": "python",
   "nbconvert_exporter": "python",
   "pygments_lexer": "ipython3",
   "version": "3.6.4"
  }
 },
 "nbformat": 4,
 "nbformat_minor": 2
}
