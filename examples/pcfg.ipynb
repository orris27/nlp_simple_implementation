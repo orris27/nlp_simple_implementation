{
 "cells": [
  {
   "cell_type": "markdown",
   "metadata": {},
   "source": [
    "# Probabilistic Context Free Grammar"
   ]
  },
  {
   "cell_type": "markdown",
   "metadata": {},
   "source": [
    "Step 1: Download Files\n",
    "+ stanford-parser.jar\n",
    "+ stanford-parser-3.9.2-models.jar\n",
    "+ chinesePCFG.ser.gz"
   ]
  },
  {
   "cell_type": "code",
   "execution_count": 2,
   "metadata": {},
   "outputs": [
    {
     "name": "stdout",
     "output_type": "stream",
     "text": [
      "Downloading chinesePCFG.ser.gz from https://github.com/treppo/stanfordparser/raw/master/stanford-parser/models/chinesePCFG.ser.gz\n"
     ]
    }
   ],
   "source": [
    "from urllib.request import urlretrieve\n",
    "import os\n",
    "\n",
    "stanford_parser_url = 'http://central.maven.org/maven2/edu/stanford/nlp/stanford-parser/3.9.2/stanford-parser-3.9.2.jar'\n",
    "stanford_parser_models_url = 'http://central.maven.org/maven2/edu/stanford/nlp/stanford-parser/3.9.2/stanford-parser-3.9.2-models.jar'\n",
    "chinese_pcfg_url = 'https://github.com/treppo/stanfordparser/raw/master/stanford-parser/models/chinesePCFG.ser.gz'\n",
    "data_dir = 'data'\n",
    "\n",
    "urls = [stanford_parser_url, stanford_parser_models_url, chinese_pcfg_url]\n",
    "\n",
    "for url in urls:\n",
    "    filename = url.split('/')[-1]\n",
    "    fullname = os.path.join(data_dir, filename)\n",
    "    if not os.path.exists(fullname):\n",
    "        print('Downloading {} from {}'.format(filename, url))\n",
    "        urlretrieve(url, filename=fullname)"
   ]
  },
  {
   "cell_type": "markdown",
   "metadata": {},
   "source": [
    "Step 2: Load Model"
   ]
  },
  {
   "cell_type": "code",
   "execution_count": 1,
   "metadata": {},
   "outputs": [
    {
     "name": "stderr",
     "output_type": "stream",
     "text": [
      "/home/orris/anaconda3/lib/python3.6/site-packages/ipykernel_launcher.py:9: DeprecationWarning: The StanfordParser will be deprecated\n",
      "Please use \u001b[91mnltk.parse.corenlp.StanforCoreNLPParser\u001b[0m instead.\n",
      "  if __name__ == '__main__':\n"
     ]
    }
   ],
   "source": [
    "from nltk.parse import stanford\n",
    "import os\n",
    "\n",
    "data_dir = 'data'\n",
    "parser_fullname = os.path.join(data_dir, 'stanford-parser-3.9.2.jar')\n",
    "model_fullname = os.path.join(data_dir, 'stanford-parser-3.9.2-models.jar')\n",
    "pcfg_fullname = os.path.join(data_dir, 'chinesePCFG.ser.gz')\n",
    "\n",
    "parser = stanford.StanfordParser(path_to_jar=parser_fullname, path_to_models_jar=model_fullname, model_path=pcfg_fullname)"
   ]
  },
  {
   "cell_type": "markdown",
   "metadata": {},
   "source": [
    "Step 3: Use model to parse documents"
   ]
  },
  {
   "cell_type": "code",
   "execution_count": 14,
   "metadata": {
    "scrolled": true
   },
   "outputs": [
    {
     "data": {
      "image/png": "[encoded data removed]",
      "text/plain": [
       "Tree('ROOT', [Tree('IP', [Tree('NP', [Tree('PN', ['他'])]), Tree('VP', [Tree('VP', [Tree('VV', ['骑']), Tree('NP', [Tree('NN', ['自行车'])])]), Tree('VP', [Tree('VV', ['去']), Tree('AS', ['了']), Tree('NP', [Tree('NN', ['菜市场'])])])]), Tree('PU', ['。'])])])"
      ]
     },
     "metadata": {},
     "output_type": "display_data"
    }
   ],
   "source": [
    "import jieba\n",
    "import nltk\n",
    "from IPython.display import display\n",
    "\n",
    "document = '他骑自行车去了菜市场。'\n",
    "tokens = jieba.cut(document, cut_all=False, HMM=True)\n",
    "tokens_str = ' '.join(tokens)\n",
    "sentence = parser.raw_parse(tokens_str)\n",
    "for line in sentence:\n",
    "    line.draw() # 画出来的图应该有Terminal字符的,这行代码会有额外的窗口贴出来,但是jupyter notebook不能完整显示出来\n",
    "    display(line) # 暂时使用这行代码显示结果\n"
   ]
  },
  {
   "attachments": {
    "image.png": {
     "image/png": "[encoded data removed]"
    }
   },
   "cell_type": "markdown",
   "metadata": {},
   "source": [
    "line.draw()显示结果:\n",
    "![image.png](attachment:image.png)"
   ]
  },
  {
   "cell_type": "code",
   "execution_count": null,
   "metadata": {},
   "outputs": [],
   "source": []
  }
 ],
 "metadata": {
  "kernelspec": {
   "display_name": "Python 3",
   "language": "python",
   "name": "python3"
  },
  "language_info": {
   "codemirror_mode": {
    "name": "ipython",
    "version": 3
   },
   "file_extension": ".py",
   "mimetype": "text/x-python",
   "name": "python",
   "nbconvert_exporter": "python",
   "pygments_lexer": "ipython3",
   "version": "3.6.4"
  }
 },
 "nbformat": 4,
 "nbformat_minor": 2
}
