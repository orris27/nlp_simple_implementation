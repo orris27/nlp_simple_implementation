{
 "cells": [
  {
   "cell_type": "markdown",
   "metadata": {},
   "source": [
    "# Probabilistic Context Free Grammar"
   ]
  },
  {
   "cell_type": "markdown",
   "metadata": {},
   "source": [
    "Download Files\n",
    "+ stanford-parser.jar\n",
    "+ stanford-parser-3.9.2-models.jar\n",
    "+ chinesePCFG.ser.gz"
   ]
  },
  {
   "cell_type": "code",
   "execution_count": null,
   "metadata": {},
   "outputs": [
    {
     "name": "stdout",
     "output_type": "stream",
     "text": [
      "Downloading chinesePCFG.ser.gz from https://github.com/treppo/stanfordparser/raw/master/stanford-parser/models/chinesePCFG.ser.gz\n"
     ]
    }
   ],
   "source": [
    "from urllib.request import urlretrieve\n",
    "import os\n",
    "\n",
    "stanford_parser_url = 'http://central.maven.org/maven2/edu/stanford/nlp/stanford-parser/3.9.2/stanford-parser-3.9.2.jar'\n",
    "stanford_parser_models_url = 'http://central.maven.org/maven2/edu/stanford/nlp/stanford-parser/3.9.2/stanford-parser-3.9.2-models.jar'\n",
    "chinese_pcfg_url = 'https://github.com/treppo/stanfordparser/raw/master/stanford-parser/models/chinesePCFG.ser.gz'\n",
    "data_dir = 'data'\n",
    "\n",
    "urls = [stanford_parser_url, stanford_parser_models_url, chinese_pcfg_url]\n",
    "\n",
    "for url in urls:\n",
    "    filename = url.split('/')[-1]\n",
    "    fullname = os.path.join(data_dir, filename)\n",
    "    if not os.path.exists(fullname):\n",
    "        print('Downloading {} from {}'.format(filename, url))\n",
    "        urlretrieve(url, filename=fullname)"
   ]
  },
  {
   "cell_type": "code",
   "execution_count": null,
   "metadata": {},
   "outputs": [],
   "source": []
  }
 ],
 "metadata": {
  "kernelspec": {
   "display_name": "Python 3",
   "language": "python",
   "name": "python3"
  },
  "language_info": {
   "codemirror_mode": {
    "name": "ipython",
    "version": 3
   },
   "file_extension": ".py",
   "mimetype": "text/x-python",
   "name": "python",
   "nbconvert_exporter": "python",
   "pygments_lexer": "ipython3",
   "version": "3.6.4"
  }
 },
 "nbformat": 4,
 "nbformat_minor": 2
}
