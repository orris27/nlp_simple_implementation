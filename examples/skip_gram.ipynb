{
 "cells": [
  {
   "cell_type": "markdown",
   "metadata": {},
   "source": [
    "# Skip Gram"
   ]
  },
  {
   "cell_type": "markdown",
   "metadata": {},
   "source": [
    "Step 1: Download files:\n",
    "+ text8.zip"
   ]
  },
  {
   "cell_type": "code",
   "execution_count": 1,
   "metadata": {},
   "outputs": [
    {
     "name": "stdout",
     "output_type": "stream",
     "text": [
      "Downloading completed!\n"
     ]
    }
   ],
   "source": [
    "from urllib.request import urlretrieve\n",
    "import os\n",
    "\n",
    "data_dir = 'data'\n",
    "url = 'http://mattmahoney.net/dc/text8.zip'\n",
    "filename = url.split('/')[-1]\n",
    "fullname = os.path.join(data_dir, filename)\n",
    "if not os.path.exists(fullname):\n",
    "    print('Downloading {} from {}...'.format(filename, url))\n",
    "    urlretrieve(url, filename=fullname)\n",
    "print('Downloading completed!')"
   ]
  },
  {
   "cell_type": "markdown",
   "metadata": {},
   "source": [
    "Step 2: Import packages and define constants."
   ]
  },
  {
   "cell_type": "code",
   "execution_count": 2,
   "metadata": {},
   "outputs": [],
   "source": [
    "import numpy as np\n",
    "import tensorflow as tf\n",
    "import zipfile\n",
    "import collections\n",
    "import os\n",
    "import math\n",
    "import matplotlib.pyplot as plt\n",
    "\n",
    "###############################################################################\n",
    "# Constants\n",
    "###############################################################################\n",
    "\n",
    "fullname = \"data/text8.zip\"\n",
    "\n",
    "vocab_size = 50000\n",
    "\n",
    "batch_size = 128\n",
    "\n",
    "embedding_size = 128\n",
    "\n",
    "num_sampled = 64\n",
    "learning_rate = 0.01\n",
    "num_epochs = 100001\n",
    "log_every = 10000\n",
    "\n",
    "learning_rate = 1.0\n",
    "\n",
    "valid_size = 20\n",
    "valid_window = 100\n",
    "top_k = 10"
   ]
  },
  {
   "cell_type": "markdown",
   "metadata": {},
   "source": [
    "Step 3: Define dataset and create a dataloader."
   ]
  },
  {
   "cell_type": "code",
   "execution_count": 3,
   "metadata": {},
   "outputs": [
    {
     "name": "stdout",
     "output_type": "stream",
     "text": [
      "17005207\n",
      "anarchism\n"
     ]
    }
   ],
   "source": [
    "'''\n",
    "    Usage: Download text8.zip(http://mattmahoney.net/dc/text8.zip) and `python skip-gram.py`\n",
    "    Training Dataset: \n",
    "        features: [batch_size] (indices)\n",
    "        labels: [batch_size, 1] (indices)\n",
    "    Graph: skip-gram.png\n",
    "'''\n",
    "###############################################################################\n",
    "# Build dataset: generate_batch\n",
    "###############################################################################\n",
    "# read the text8.zip into a list of words\n",
    "with zipfile.ZipFile(fullname) as f:\n",
    "    tokens = (tf.compat.as_str(f.read(f.namelist()[0]))).split()\n",
    "\n",
    "print(len(tokens))\n",
    "print(tokens[0])"
   ]
  },
  {
   "cell_type": "code",
   "execution_count": 4,
   "metadata": {},
   "outputs": [],
   "source": [
    "def create_dictionary(tokens, vocab_size, special_tokens=['<unk>']):\n",
    "    '''\n",
    "        tokens: ['i', 'love', 'games', ...], i.e. a list of tokens\n",
    "    '''\n",
    "    count = collections.Counter(tokens).most_common(vocab_size - 1)\n",
    "    \n",
    "    # add special token like <unk>\n",
    "    for special_token in special_tokens:\n",
    "        freq = [[special_token, -1]]\n",
    "        freq.extend(count)\n",
    "    \n",
    "    token2id = dict()\n",
    "    for i in range(vocab_size):\n",
    "        token2id[freq[i][0]] = i\n",
    "\n",
    "    id2token = dict(zip(token2id.values(), token2id.keys()))\n",
    "\n",
    "    indices = [] # tokens=>ids: ['i', 'love', 'games', ...] => [1222, 2332, 12, ...]\n",
    "    for token in tokens:\n",
    "        if token in token2id:\n",
    "            indices.append(token2id[token])\n",
    "        else:\n",
    "            indices.append(0)\n",
    "    \n",
    "    return indices, token2id, id2token\n",
    "    \n",
    "indices, token2id, id2token = create_dictionary(tokens, vocab_size=vocab_size)\n"
   ]
  },
  {
   "cell_type": "code",
   "execution_count": 5,
   "metadata": {},
   "outputs": [
    {
     "name": "stdout",
     "output_type": "stream",
     "text": [
      "length of indices, token2id, id2token: 17005207 50000 50000\n",
      "indices[0]: 5234\n",
      "token2id['apple']: 1221\n",
      "id2token[0]: <unk>\n",
      "id2token[1]: the\n",
      "id2token[1221]: apple\n"
     ]
    }
   ],
   "source": [
    "print('length of indices, token2id, id2token:', len(indices), len(token2id), len(id2token))\n",
    "print('indices[0]:', indices[0])\n",
    "print('token2id[\\'apple\\']:', token2id['apple'])\n",
    "print('id2token[0]:', id2token[0])\n",
    "print('id2token[1]:', id2token[1])\n",
    "print('id2token[1221]:', id2token[1221])"
   ]
  },
  {
   "cell_type": "code",
   "execution_count": 6,
   "metadata": {},
   "outputs": [],
   "source": [
    "data_index = 0\n",
    "\n",
    "# define generate_batch function\n",
    "def generate_batch(indices, batch_size ,skip_window=1, num_skips=2):\n",
    "    '''\n",
    "        window_size = skip_window * 2 + 1.\n",
    "        example:\n",
    "            Input: indices: [5234, 3081, 12, 6, 195]\n",
    "            Output: X        y\n",
    "                    3081    5234\n",
    "                    3081    12\n",
    "                    12      3081\n",
    "                    12      6\n",
    "                    6       12\n",
    "                    6       195\n",
    "            \n",
    "    '''\n",
    "    global data_index\n",
    "    len_indices = len(indices)\n",
    "\n",
    "    X = np.ndarray(shape=(batch_size,), dtype=np.int32)\n",
    "    y = np.ndarray(shape=(batch_size, 1), dtype=np.int32)\n",
    "\n",
    "    dq_len = skip_window * 2 + 1 # 3\n",
    "    dq = collections.deque(maxlen=dq_len)\n",
    "    for _ in range(dq_len):\n",
    "        dq.append(indices[data_index])\n",
    "        data_index = (data_index + 1) % len_indices\n",
    "\n",
    "    sub = 0\n",
    "    for _ in range(batch_size // num_skips):\n",
    "        choices = [i for i in range(skip_window * 2 + 1)] # choices: [0, 1, 2]\n",
    "        \n",
    "        choices.pop(skip_window) # choices: [0, 2]\n",
    "        while len(choices) != num_skips: # num_skips: 2\n",
    "            choice = np.random.randint(0, len(choices))\n",
    "            choices.pop(choice) # the argument of pop is the index\n",
    "\n",
    "        for choice in choices: # choices: [0, 2]\n",
    "            X[sub] = dq[skip_window]\n",
    "            y[sub][0] = dq[choice]\n",
    "            sub += 1\n",
    "\n",
    "        # move the pointer\n",
    "        dq.append(indices[data_index])\n",
    "        data_index = (data_index + 1) % len_indices\n",
    "\n",
    "    return X, y"
   ]
  },
  {
   "cell_type": "markdown",
   "metadata": {},
   "source": [
    "Let's see what generate_batch does:"
   ]
  },
  {
   "cell_type": "code",
   "execution_count": 7,
   "metadata": {},
   "outputs": [
    {
     "name": "stdout",
     "output_type": "stream",
     "text": [
      "[5234, 3081, 12, 6, 195, 2, 3134, 46, 59, 156, 128, 742]\n",
      "3081 [5234]\n",
      "3081 [12]\n",
      "12 [3081]\n",
      "12 [6]\n",
      "6 [12]\n",
      "6 [195]\n",
      "195 [6]\n",
      "195 [2]\n",
      "2 [195]\n",
      "2 [3134]\n",
      "3134 [2]\n",
      "3134 [46]\n",
      "46 [3134]\n",
      "46 [59]\n",
      "59 [46]\n",
      "59 [156]\n"
     ]
    }
   ],
   "source": [
    "data_index = 0\n",
    "\n",
    "x_batch, y_batch = generate_batch(indices, batch_size=16)\n",
    "print(indices[:12])\n",
    "for x_, y_ in zip(x_batch, y_batch):\n",
    "    print(x_, y_)\n",
    "\n",
    "data_index = 0 # adjust back"
   ]
  },
  {
   "cell_type": "markdown",
   "metadata": {},
   "source": [
    "Step 4: Build the network\n",
    "+ layer1: embedding\n",
    "+ layer2: NCE loss"
   ]
  },
  {
   "cell_type": "code",
   "execution_count": 8,
   "metadata": {},
   "outputs": [],
   "source": [
    "###############################################################################\n",
    "# Construct a tensor graph: train + valid\n",
    "###############################################################################\n",
    "graph = tf.Graph()\n",
    "with graph.as_default():\n",
    "    with tf.name_scope('placeholder'):\n",
    "        features = tf.placeholder(tf.int32, [batch_size], name='features') \n",
    "        labels = tf.placeholder(tf.int32, [batch_size,1], name='labels')\n",
    "\n",
    "\n",
    "    embedding = tf.Variable(tf.random_uniform([vocab_size, embedding_size], -1.0, 1.0))\n",
    "    \n",
    "    embedded_chars = tf.nn.embedding_lookup(embedding, features) # [batch_size] => [batch_size, embedding_size]\n",
    "\n",
    "    # define NCE loss\n",
    "    with tf.name_scope(\"nce\"):\n",
    "        nce_weights = tf.Variable(tf.truncated_normal([vocab_size, embedding_size], stddev=1.0 / math.sqrt(embedding_size)))\n",
    "        nce_biases = tf.Variable(tf.zeros([vocab_size]))\n",
    "\n",
    "        loss_op = tf.reduce_mean(tf.nn.nce_loss(weights = nce_weights, # [num_classes, embedding_size]\n",
    "                                             biases = nce_biases, # [num_classes] \n",
    "                                             inputs = embedded_chars, # [batch_size, embedding_size]\n",
    "                                             labels = labels, # [batch_size, num_true]; num_true means represents the number of positive samples\n",
    "                                             num_sampled = num_sampled, # the number of negative samples\n",
    "                                             num_classes = vocab_size)) # num_classes\n",
    "\n",
    "    #train = tf.train.AdamOptimizer(learning_rate).minimize(loss)\n",
    "    train = tf.train.GradientDescentOptimizer(learning_rate).minimize(loss_op)\n",
    "\n",
    "    # 下面的代码是测试用的\n",
    "    # randomly generate dataset designed to valid: [valid_size]\n",
    "    valid_features = np.random.choice(valid_window, size=(valid_size,), replace=False)\n",
    "\n",
    "    # define unitized embedding matrix\n",
    "    def unitize_2d(vectors):\n",
    "        return vectors / tf.sqrt(tf.reduce_sum(tf.square(vectors), axis=1, keepdims=True))\n",
    "\n",
    "    unitized_embedding_op = unitize_2d(embedding)\n",
    "\n",
    "    valid_embedded_chars = tf.nn.embedding_lookup(unitized_embedding_op, valid_features) # [valid_size] => [valid_size, embedding_size]\n",
    "\n",
    "    # (valid_size, embedding_size) x (vocab_size, embedding_size)^T => (valid_size, vocab_size)\n",
    "    final_embedding_op = tf.matmul(valid_embedded_chars, unitized_embedding_op, transpose_b=True)"
   ]
  },
  {
   "cell_type": "markdown",
   "metadata": {},
   "source": [
    "Step 5: Train model and evaluate."
   ]
  },
  {
   "cell_type": "code",
   "execution_count": 9,
   "metadata": {},
   "outputs": [
    {
     "name": "stdout",
     "output_type": "stream",
     "text": [
      "step 0 : loss = 286.32232666015625\n",
      "step 10000 : loss = 48.316554895509135\n",
      "step 20000 : loss = 29.367626234743753\n",
      "step 30000 : loss = 21.793767386073092\n",
      "step 40000 : loss = 17.75215796970617\n",
      "step 50000 : loss = 15.243928160567954\n",
      "step 60000 : loss = 13.548013787087125\n",
      "step 70000 : loss = 12.304155184164028\n",
      "step 80000 : loss = 11.368376541950692\n",
      "step 90000 : loss = 10.633848328255075\n",
      "step 100000 : loss = 10.037645585212639\n",
      "Nearest to five: five four six seven eight three two zero nine kapoor \n",
      "Nearest to may: may can would could should will might must cannot kur \n",
      "Nearest to there: there they it he still she pontificia which these also \n",
      "Nearest to used: used known normality possible tamias fired methadone able kapoor agp \n",
      "Nearest to the: the its their kapoor his this thibetanus agouti microcebus michelob \n",
      "Nearest to most: most more many some use cl fricative hickok amar paymaster \n",
      "Nearest to so: so tabula frud if wished kapoor callithrix hbox too then \n",
      "Nearest to about: about six seven callithrix thaler that becomes aba airliner michelob \n",
      "Nearest to three: three six four five two seven eight kapoor nine zero \n",
      "Nearest to was: was is had were has became been be dasyprocta clo \n",
      "Nearest to not: not still they often be it also tamias always you \n",
      "Nearest to all: all these some many kapoor sequences them concourse thibetanus footwork \n",
      "Nearest to he: he it she they there who necromancer we fayetteville microcebus \n",
      "Nearest to be: be been have by was were are is being not \n",
      "Nearest to time: time dasyprocta obsession appomattox luz pulau seagram round microcebus cyanide \n",
      "Nearest to have: have had has were are be include finally having pneumonia \n",
      "Nearest to has: has had have is was since finally lector lemmy dasyprocta \n",
      "Nearest to will: will would can should may could must to cannot mideast \n",
      "Nearest to during: during in after before against through grapes and cebus appomattox \n",
      "Nearest to however: however but that although and prism which kapoor still pontificia \n"
     ]
    },
    {
     "data": {
      "image/png": "[encoded data removed]",
      "text/plain": [
       "<matplotlib.figure.Figure at 0x7f5cc81e5860>"
      ]
     },
     "metadata": {},
     "output_type": "display_data"
    }
   ],
   "source": [
    "###############################################################################\n",
    "# Train + valid(print)\n",
    "###############################################################################\n",
    "def eval():\n",
    "    # get final embedding matrix\n",
    "    final_embedding = sess.run(final_embedding_op)\n",
    "   \n",
    "    def check(words, labels):\n",
    "        '''\n",
    "            check for accuracy\n",
    "            words: [valid_size, vocab_size]\n",
    "            labels: [valid_size]. contains the indices of these words\n",
    "        '''\n",
    "        # sort the dim1 reversely\n",
    "        res = []\n",
    "        # pick out the first <top_k> for each word\n",
    "        for word in words:\n",
    "            res.append(((-word).argsort())[:top_k])\n",
    "\n",
    "        # print dictionary[word] & dictionary[top_k_word]\n",
    "        for i, label in enumerate(labels):\n",
    "            print(\"Nearest to\", id2token[label],end=': ')\n",
    "            for j in range(top_k):\n",
    "                print(id2token[res[i][j]], end=' ')\n",
    "            print()\n",
    "    # check for accuracy\n",
    "    check(final_embedding, valid_features)\n",
    "\n",
    "    # TSNE\n",
    "    from sklearn.manifold import TSNE\n",
    "    tsne = TSNE(perplexity=30, n_components=2, init='pca', n_iter=5000)\n",
    "\n",
    "    unitized_embedding = sess.run(unitized_embedding_op)\n",
    "\n",
    "    plot_only = 100\n",
    "    low_dim_embs = tsne.fit_transform(unitized_embedding[:plot_only])\n",
    "\n",
    "    # get indices, translate\n",
    "    annotations = []\n",
    "    for i in range(plot_only):\n",
    "        annotations.append(id2token[i])\n",
    "    \n",
    "    # draw a graph that describes the embedding matrix\n",
    "    def plot_with_labels(low_dim_embs, annotations):\n",
    "        plt.figure(figsize=(18,18))\n",
    "        for i, annotation in enumerate(annotations):\n",
    "            x, y = low_dim_embs[i, :]\n",
    "            plt.scatter(x, y)\n",
    "            plt.annotate(annotation,\n",
    "                         xy = (x, y),\n",
    "                         xytext = (5, 2),\n",
    "                         textcoords = 'offset points',\n",
    "                         ha = 'right',\n",
    "                         va = 'bottom')\n",
    "\n",
    "        plt.show()\n",
    "\n",
    "    plot_with_labels(low_dim_embs, annotations)\n",
    "\n",
    "config = tf.ConfigProto()\n",
    "config.gpu_options.allow_growth = True\n",
    "\n",
    "with tf.Session(config=config, graph=graph) as sess:\n",
    "    tf.global_variables_initializer().run()\n",
    "\n",
    "    total_loss = 0.\n",
    "\n",
    "    num_batches = len(indices) // batch_size\n",
    "    \n",
    "    for step in range(num_epochs):\n",
    "        X, y = generate_batch(indices, batch_size)\n",
    "        \n",
    "        _, loss = sess.run([train, loss_op], feed_dict = {features:X, labels:y})\n",
    "\n",
    "        total_loss += loss\n",
    "\n",
    "        if step % log_every == 0:\n",
    "            print(\"step\", step, \": loss =\" ,total_loss / (step + 1))\n",
    "    eval()"
   ]
  }
 ],
 "metadata": {
  "kernelspec": {
   "display_name": "Python 3",
   "language": "python",
   "name": "python3"
  },
  "language_info": {
   "codemirror_mode": {
    "name": "ipython",
    "version": 3
   },
   "file_extension": ".py",
   "mimetype": "text/x-python",
   "name": "python",
   "nbconvert_exporter": "python",
   "pygments_lexer": "ipython3",
   "version": "3.6.4"
  }
 },
 "nbformat": 4,
 "nbformat_minor": 2
}
