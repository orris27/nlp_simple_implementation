{
 "cells": [
  {
   "cell_type": "markdown",
   "metadata": {},
   "source": [
    "# Word2Vec"
   ]
  },
  {
   "cell_type": "markdown",
   "metadata": {},
   "source": [
    "Step 1: Download files:\n",
    "+ zhwiki-latest-pages-articles.xml.bz2"
   ]
  },
  {
   "cell_type": "code",
   "execution_count": 7,
   "metadata": {},
   "outputs": [],
   "source": [
    "from urllib.request import urlretrieve\n",
    "import os \n",
    "\n",
    "url = 'https://dumps.wikimedia.org/zhwiki/latest/zhwiki-latest-pages-articles.xml.bz2'\n",
    "filename = url.split('/')[-1]\n",
    "fullname = os.path.join('data', filename)\n",
    "if not os.path.exists(fullname):\n",
    "    print('Downloading {} from {}...'.format(filename, url))\n",
    "    urlretrieve(url, filename=fullname)"
   ]
  },
  {
   "cell_type": "markdown",
   "metadata": {},
   "source": [
    "Step 2: Preprocess zhwiki and save the corpus in `data/reduce_zhiwiki.txt`"
   ]
  },
  {
   "cell_type": "code",
   "execution_count": 8,
   "metadata": {},
   "outputs": [],
   "source": [
    "from gensim.corpora import WikiCorpus\n",
    "import jieba\n",
    "from utils.langconv import *\n",
    "import os\n",
    "\n",
    "\n",
    "def preprocessing():\n",
    "    space = ' '\n",
    "    i = 0\n",
    "    l = []\n",
    "    zhwiki_name = './data/zhwiki-latest-pages-articles.xml.bz2'\n",
    "    f = open('./data/reduce_zhiwiki.txt', 'w')\n",
    "    wiki = WikiCorpus(zhwiki_name, lemmatize=False, dictionary={}) # 转换xml格式的维基中文语料为txt格式\n",
    "    for text in wiki.get_texts():\n",
    "        for temp_sentence in text:\n",
    "            temp_sentence = Converter('zh-hans').convert(temp_sentence) # 转换繁体字为简体字\n",
    "            seg_list = list(jieba.cut(temp_sentence)) # 分词\n",
    "            for temp_term in seg_list:\n",
    "                l.append(temp_term)\n",
    "        f.write(space.join(l) + '\\n') # 空格拼接分词内容, 因为gensim的Word2Vec要求这种格式\n",
    "        l = []\n",
    "        i = i + 1\n",
    "\n",
    "        if (i %200 == 0):\n",
    "            print('Saved ' + str(i) + ' articles')\n",
    "    f.close()\n",
    "\n",
    "pre_corpus_filename = 'data/reduce_zhiwiki.txt'\n",
    "if not os.path.exists(pre_corpus_filename):\n",
    "    preprocessing()"
   ]
  },
  {
   "cell_type": "markdown",
   "metadata": {},
   "source": [
    "Step 3: Train models and save the model in `data/zhiwiki_news.word2vec`"
   ]
  },
  {
   "cell_type": "code",
   "execution_count": 3,
   "metadata": {},
   "outputs": [],
   "source": [
    "from gensim.models import Word2Vec\n",
    "from gensim.models.word2vec import LineSentence\n",
    "import logging\n",
    "\n",
    "def train_model(model_filename='data/zhiwiki_news.word2vec'):\n",
    "    with open(pre_corpus_filename, 'r') as wiki_news:\n",
    "        model = Word2Vec(LineSentence(wiki_news), sg=0, size=192, window=5, min_count=5, workers=9)\n",
    "        model.save(model_filename)\n",
    "\n",
    "model_filename = 'data/zhiwiki_news.word2vec'\n",
    "\n",
    "if not os.path.exists(model_filename):\n",
    "    train_model(model_filename)\n"
   ]
  },
  {
   "cell_type": "markdown",
   "metadata": {},
   "source": [
    "Step 4: Use models"
   ]
  },
  {
   "cell_type": "code",
   "execution_count": 6,
   "metadata": {},
   "outputs": [
    {
     "name": "stderr",
     "output_type": "stream",
     "text": [
      "/home/orris/anaconda3/lib/python3.6/site-packages/ipykernel_launcher.py:5: DeprecationWarning: Call to deprecated `similarity` (Method will be removed in 4.0.0, use self.wv.similarity() instead).\n",
      "  \"\"\"\n",
      "/home/orris/anaconda3/lib/python3.6/site-packages/ipykernel_launcher.py:10: DeprecationWarning: Call to deprecated `most_similar` (Method will be removed in 4.0.0, use self.wv.most_similar() instead).\n",
      "  # Remove the CWD from sys.path while we load stuff.\n"
     ]
    },
    {
     "name": "stdout",
     "output_type": "stream",
     "text": [
      "0.5083116286754799\n",
      "[('我国', 0.6470304727554321), ('北京', 0.5798619985580444), ('礁层', 0.5606339573860168), ('中国政府', 0.5527150630950928), ('台湾', 0.5525480508804321), ('中华民国', 0.5394100546836853), ('亚洲', 0.5239245295524597), ('全国', 0.5231877565383911), ('台商', 0.5222627520561218), ('中华人民共和国', 0.5218644738197327)]\n"
     ]
    }
   ],
   "source": [
    "from gensim.models import Word2Vec\n",
    "\n",
    "model = Word2Vec.load(model_filename)\n",
    "\n",
    "print(model.similarity('西红柿', '香蕉'))\n",
    "\n",
    "word = '中国'\n",
    "\n",
    "if word in model.wv.index2word:\n",
    "    print(model.most_similar(word))\n"
   ]
  },
  {
   "cell_type": "code",
   "execution_count": null,
   "metadata": {},
   "outputs": [],
   "source": []
  }
 ],
 "metadata": {
  "kernelspec": {
   "display_name": "Python 3",
   "language": "python",
   "name": "python3"
  },
  "language_info": {
   "codemirror_mode": {
    "name": "ipython",
    "version": 3
   },
   "file_extension": ".py",
   "mimetype": "text/x-python",
   "name": "python",
   "nbconvert_exporter": "python",
   "pygments_lexer": "ipython3",
   "version": "3.6.4"
  }
 },
 "nbformat": 4,
 "nbformat_minor": 2
}
