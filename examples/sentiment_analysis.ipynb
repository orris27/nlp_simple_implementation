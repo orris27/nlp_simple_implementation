{
 "cells": [
  {
   "cell_type": "markdown",
   "metadata": {},
   "source": [
    "# Sentiment Analysis"
   ]
  },
  {
   "cell_type": "markdown",
   "metadata": {},
   "source": [
    "## Method 1: Whether a token appears or not"
   ]
  },
  {
   "cell_type": "code",
   "execution_count": 1,
   "metadata": {},
   "outputs": [
    {
     "name": "stdout",
     "output_type": "stream",
     "text": [
      "pos\n"
     ]
    }
   ],
   "source": [
    "from nltk.classify import NaiveBayesClassifier\n",
    "\n",
    "# data\n",
    "s1 = 'This is a good book'\n",
    "s2 = 'This is a awesome book'\n",
    "s3 = 'This is a bad book'\n",
    "s4 = 'This is a terrible book'\n",
    "\n",
    "# extract features\n",
    "def preprocess(s):\n",
    "    return {word: True for word in s.lower().split()}\n",
    "\n",
    "\n",
    "training_data = [[preprocess(s1),'pos'], # preprocess(s1): {'this': True, 'is': True, 'a': True, 'good': True, 'book': True}\n",
    "                 [preprocess(s2),'pos'],\n",
    "                 [preprocess(s3),'neg'],\n",
    "                 [preprocess(s4),'neg'],]\n",
    "# train\n",
    "model = NaiveBayesClassifier.train(training_data)\n",
    "\n",
    "# predict\n",
    "print(model.classify(preprocess('He is a good man')))"
   ]
  },
  {
   "cell_type": "markdown",
   "metadata": {},
   "source": [
    "## Method 2: The number of times a word appears in a document"
   ]
  },
  {
   "cell_type": "markdown",
   "metadata": {},
   "source": [
    "## Method 3: TF-IDF Features"
   ]
  },
  {
   "cell_type": "markdown",
   "metadata": {},
   "source": [
    "## Method 4: 关键字打分"
   ]
  },
  {
   "cell_type": "markdown",
   "metadata": {},
   "source": [
    "See details for AFINN in [this](http://www2.imm.dtu.dk/pubdb/views/publication_details.php?id=6010) website."
   ]
  },
  {
   "cell_type": "code",
   "execution_count": 2,
   "metadata": {},
   "outputs": [
    {
     "name": "stdout",
     "output_type": "stream",
     "text": [
      "3\n",
      "-3\n",
      "3\n"
     ]
    }
   ],
   "source": [
    "import nltk\n",
    "\n",
    "word_to_score={}\n",
    "with open('data/AFINN/AFINN-111.txt','r') as f:\n",
    "    lines = f.readlines()\n",
    "    for line in lines:\n",
    "        line = line.strip('\\n')\n",
    "        word,score = line.split('\\t')\n",
    "        word_to_score[word] = int(score)\n",
    "#print(word_to_score)\n",
    "\n",
    "def get_score(s):\n",
    "    score = 0\n",
    "    words = nltk.word_tokenize(s)\n",
    "    score = sum(word_to_score.get(word,0) for word in words)\n",
    "    return score\n",
    "\n",
    "print(get_score('You are a good person.'))\n",
    "print(get_score('You are a terrible person.'))\n",
    "print(get_score(\"It's a nice day\"))"
   ]
  },
  {
   "cell_type": "code",
   "execution_count": null,
   "metadata": {},
   "outputs": [],
   "source": []
  },
  {
   "cell_type": "code",
   "execution_count": null,
   "metadata": {},
   "outputs": [],
   "source": []
  }
 ],
 "metadata": {
  "kernelspec": {
   "display_name": "Python 3",
   "language": "python",
   "name": "python3"
  },
  "language_info": {
   "codemirror_mode": {
    "name": "ipython",
    "version": 3
   },
   "file_extension": ".py",
   "mimetype": "text/x-python",
   "name": "python",
   "nbconvert_exporter": "python",
   "pygments_lexer": "ipython3",
   "version": "3.6.4"
  }
 },
 "nbformat": 4,
 "nbformat_minor": 2
}
