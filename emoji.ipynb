{
 "cells": [
  {
   "cell_type": "code",
   "execution_count": 1,
   "metadata": {},
   "outputs": [],
   "source": [
    "import re"
   ]
  },
  {
   "cell_type": "code",
   "execution_count": 3,
   "metadata": {},
   "outputs": [],
   "source": [
    "emoticons_str=r\"\"\"\n",
    "    (?:\n",
    "        [:=;]\n",
    "        [oO\\-]?\n",
    "        [D\\)\\]\\(\\]/\\\\OpP]\n",
    "    )\"\"\"\n",
    "regex_str=[\n",
    "        emoticons_str,\n",
    "        r'<[^>]+>', # html tags\n",
    "        r'(?:@[\\w_]+)', # @ sb.\n",
    "        r'(?:\\#+[\\w_]+[\\w\\'_\\-]*[\\w_]+)', #topic tags\n",
    "        r'http[s]?://(?:[a-z]|[0-9]|[$-_@.&amp;+]|[!*\\(\\),]|(?:%[0-9a-f][0-9a-f]))+', # url\n",
    "        r'(?:(?:\\d+,?)+(?:\\.?\\d+)?)', # number\n",
    "        r\"(?:[a-z][a-z'\\-_]+[a-z])\", # words that contains - and '\n",
    "        r'(?:[\\w_]+)', # etc\n",
    "        r'(?:\\S)', # etc\n",
    "        ]\n",
    "            \n",
    "tokens_re = re.compile(r'('+'|'.join(regex_str)+')',re.VERBOSE|re.IGNORECASE)\n",
    "emoticon_re = re.compile(r'^'+emoticons_str+'$',re.VERBOSE|re.IGNORECASE)\n",
    "\n",
    "def tokenize(s):\n",
    "    return tokens_re.findall(s)\n",
    "\n",
    "def preprocess(s,lowercase=False):\n",
    "    tokens = tokenize(s)\n",
    "    if lowercase:\n",
    "        tokens = [token if emoticon_re.search(token) else token.lower() for token in tokens]\n",
    "    return tokens"
   ]
  },
  {
   "cell_type": "code",
   "execution_count": 4,
   "metadata": {},
   "outputs": [
    {
     "name": "stdout",
     "output_type": "stream",
     "text": [
      "['RT', '@angelababy', ':', 'love', 'you', 'baby', '!', ':D', 'http://ah.love', '#168cm']\n"
     ]
    }
   ],
   "source": [
    "tweet='RT @angelababy: love you baby! :D http://ah.love #168cm'\n",
    "print(preprocess(tweet))"
   ]
  },
  {
   "cell_type": "code",
   "execution_count": null,
   "metadata": {},
   "outputs": [],
   "source": []
  }
 ],
 "metadata": {
  "kernelspec": {
   "display_name": "Python 3",
   "language": "python",
   "name": "python3"
  },
  "language_info": {
   "codemirror_mode": {
    "name": "ipython",
    "version": 3
   },
   "file_extension": ".py",
   "mimetype": "text/x-python",
   "name": "python",
   "nbconvert_exporter": "python",
   "pygments_lexer": "ipython3",
   "version": "3.6.4"
  }
 },
 "nbformat": 4,
 "nbformat_minor": 2
}
